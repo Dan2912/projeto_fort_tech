{
  "nbformat": 4,
  "nbformat_minor": 0,
  "metadata": {
    "colab": {
      "provenance": [],
      "authorship_tag": "ABX9TyPTa/Pvx3anY6IJfPmQVL+v",
      "include_colab_link": true
    },
    "kernelspec": {
      "name": "python3",
      "display_name": "Python 3"
    },
    "language_info": {
      "name": "python"
    }
  },
  "cells": [
    {
      "cell_type": "markdown",
      "metadata": {
        "id": "view-in-github",
        "colab_type": "text"
      },
      "source": [
        "<a href=\"https://colab.research.google.com/github/Dan2912/projeto_fort_tech/blob/main/pepiline_s3_bronze.ipynb\" target=\"_parent\"><img src=\"https://colab.research.google.com/assets/colab-badge.svg\" alt=\"Open In Colab\"/></a>"
      ]
    },
    {
      "cell_type": "markdown",
      "source": [
        "##IP-Colab"
      ],
      "metadata": {
        "id": "j_rX-1Nm5mrY"
      }
    },
    {
      "cell_type": "code",
      "execution_count": null,
      "metadata": {
        "colab": {
          "base_uri": "https://localhost:8080/"
        },
        "id": "Oxx4Hahy5Ph8",
        "outputId": "5d9ea809-8b80-4cbb-d57e-bdf9a823bcf2"
      },
      "outputs": [
        {
          "output_type": "stream",
          "name": "stdout",
          "text": [
            "IP do Colab: 35.221.229.245\n"
          ]
        }
      ],
      "source": [
        "import requests\n",
        "print(\"IP do Colab:\", requests.get('https://ifconfig.me').text)\n"
      ]
    },
    {
      "cell_type": "markdown",
      "source": [
        "##Instalação da biblioteca"
      ],
      "metadata": {
        "id": "xnu_IoLg6DLK"
      }
    },
    {
      "cell_type": "code",
      "source": [
        "pip install boto3 psycopg2-binary pandas pyarrow s3fs\n"
      ],
      "metadata": {
        "colab": {
          "base_uri": "https://localhost:8080/"
        },
        "id": "wr-H5rVK6H1Q",
        "outputId": "1a909efc-01b2-45bf-fb6e-c753d354d4fa"
      },
      "execution_count": null,
      "outputs": [
        {
          "output_type": "stream",
          "name": "stdout",
          "text": [
            "Collecting boto3\n",
            "  Downloading boto3-1.38.41-py3-none-any.whl.metadata (6.6 kB)\n",
            "Collecting psycopg2-binary\n",
            "  Downloading psycopg2_binary-2.9.10-cp311-cp311-manylinux_2_17_x86_64.manylinux2014_x86_64.whl.metadata (4.9 kB)\n",
            "Requirement already satisfied: pandas in /usr/local/lib/python3.11/dist-packages (2.2.2)\n",
            "Requirement already satisfied: pyarrow in /usr/local/lib/python3.11/dist-packages (18.1.0)\n",
            "Collecting s3fs\n",
            "  Downloading s3fs-2025.5.1-py3-none-any.whl.metadata (1.9 kB)\n",
            "Collecting botocore<1.39.0,>=1.38.41 (from boto3)\n",
            "  Downloading botocore-1.38.41-py3-none-any.whl.metadata (5.7 kB)\n",
            "Collecting jmespath<2.0.0,>=0.7.1 (from boto3)\n",
            "  Downloading jmespath-1.0.1-py3-none-any.whl.metadata (7.6 kB)\n",
            "Collecting s3transfer<0.14.0,>=0.13.0 (from boto3)\n",
            "  Downloading s3transfer-0.13.0-py3-none-any.whl.metadata (1.7 kB)\n",
            "Requirement already satisfied: numpy>=1.23.2 in /usr/local/lib/python3.11/dist-packages (from pandas) (2.0.2)\n",
            "Requirement already satisfied: python-dateutil>=2.8.2 in /usr/local/lib/python3.11/dist-packages (from pandas) (2.9.0.post0)\n",
            "Requirement already satisfied: pytz>=2020.1 in /usr/local/lib/python3.11/dist-packages (from pandas) (2025.2)\n",
            "Requirement already satisfied: tzdata>=2022.7 in /usr/local/lib/python3.11/dist-packages (from pandas) (2025.2)\n",
            "Collecting aiobotocore<3.0.0,>=2.5.4 (from s3fs)\n",
            "  Downloading aiobotocore-2.23.0-py3-none-any.whl.metadata (24 kB)\n",
            "Collecting fsspec==2025.5.1 (from s3fs)\n",
            "  Downloading fsspec-2025.5.1-py3-none-any.whl.metadata (11 kB)\n",
            "Requirement already satisfied: aiohttp!=4.0.0a0,!=4.0.0a1 in /usr/local/lib/python3.11/dist-packages (from s3fs) (3.11.15)\n",
            "Collecting aioitertools<1.0.0,>=0.5.1 (from aiobotocore<3.0.0,>=2.5.4->s3fs)\n",
            "  Downloading aioitertools-0.12.0-py3-none-any.whl.metadata (3.8 kB)\n",
            "INFO: pip is looking at multiple versions of aiobotocore to determine which version is compatible with other requirements. This could take a while.\n",
            "Collecting aiobotocore<3.0.0,>=2.5.4 (from s3fs)\n",
            "  Downloading aiobotocore-2.22.0-py3-none-any.whl.metadata (24 kB)\n",
            "  Downloading aiobotocore-2.21.1-py3-none-any.whl.metadata (24 kB)\n",
            "  Downloading aiobotocore-2.21.0-py3-none-any.whl.metadata (24 kB)\n",
            "  Downloading aiobotocore-2.20.0-py3-none-any.whl.metadata (23 kB)\n",
            "  Downloading aiobotocore-2.19.0-py3-none-any.whl.metadata (23 kB)\n",
            "  Downloading aiobotocore-2.18.0-py3-none-any.whl.metadata (23 kB)\n",
            "  Downloading aiobotocore-2.17.0-py3-none-any.whl.metadata (23 kB)\n",
            "INFO: pip is still looking at multiple versions of aiobotocore to determine which version is compatible with other requirements. This could take a while.\n",
            "  Downloading aiobotocore-2.16.1-py3-none-any.whl.metadata (23 kB)\n",
            "  Downloading aiobotocore-2.16.0-py3-none-any.whl.metadata (23 kB)\n",
            "  Downloading aiobotocore-2.15.2-py3-none-any.whl.metadata (23 kB)\n",
            "  Downloading aiobotocore-2.15.1-py3-none-any.whl.metadata (23 kB)\n",
            "  Downloading aiobotocore-2.15.0-py3-none-any.whl.metadata (23 kB)\n",
            "INFO: This is taking longer than usual. You might need to provide the dependency resolver with stricter constraints to reduce runtime. See https://pip.pypa.io/warnings/backtracking for guidance. If you want to abort this run, press Ctrl + C.\n",
            "  Downloading aiobotocore-2.14.0-py3-none-any.whl.metadata (23 kB)\n",
            "  Downloading aiobotocore-2.13.3-py3-none-any.whl.metadata (22 kB)\n",
            "  Downloading aiobotocore-2.13.2-py3-none-any.whl.metadata (22 kB)\n",
            "  Downloading aiobotocore-2.13.1-py3-none-any.whl.metadata (22 kB)\n",
            "  Downloading aiobotocore-2.13.0-py3-none-any.whl.metadata (21 kB)\n",
            "  Downloading aiobotocore-2.12.4-py3-none-any.whl.metadata (21 kB)\n",
            "  Downloading aiobotocore-2.12.3-py3-none-any.whl.metadata (21 kB)\n",
            "  Downloading aiobotocore-2.12.2-py3-none-any.whl.metadata (21 kB)\n",
            "  Downloading aiobotocore-2.12.1-py3-none-any.whl.metadata (21 kB)\n",
            "  Downloading aiobotocore-2.12.0-py3-none-any.whl.metadata (21 kB)\n",
            "  Downloading aiobotocore-2.11.2-py3-none-any.whl.metadata (21 kB)\n",
            "  Downloading aiobotocore-2.11.1-py3-none-any.whl.metadata (21 kB)\n",
            "  Downloading aiobotocore-2.11.0-py3-none-any.whl.metadata (21 kB)\n",
            "  Downloading aiobotocore-2.10.0-py3-none-any.whl.metadata (20 kB)\n",
            "  Downloading aiobotocore-2.9.1-py3-none-any.whl.metadata (20 kB)\n",
            "  Downloading aiobotocore-2.9.0-py3-none-any.whl.metadata (20 kB)\n",
            "  Downloading aiobotocore-2.8.0-py3-none-any.whl.metadata (20 kB)\n",
            "  Downloading aiobotocore-2.7.0-py3-none-any.whl.metadata (20 kB)\n",
            "  Downloading aiobotocore-2.6.0-py3-none-any.whl.metadata (19 kB)\n",
            "  Downloading aiobotocore-2.5.4-py3-none-any.whl.metadata (19 kB)\n",
            "Collecting s3fs\n",
            "  Downloading s3fs-2025.5.0-py3-none-any.whl.metadata (1.9 kB)\n",
            "Requirement already satisfied: urllib3!=2.2.0,<3,>=1.25.4 in /usr/local/lib/python3.11/dist-packages (from botocore<1.39.0,>=1.38.41->boto3) (2.4.0)\n",
            "Collecting fsspec==2025.5.0 (from s3fs)\n",
            "  Downloading fsspec-2025.5.0-py3-none-any.whl.metadata (11 kB)\n",
            "Collecting s3fs\n",
            "  Downloading s3fs-2025.3.2-py3-none-any.whl.metadata (1.9 kB)\n",
            "Requirement already satisfied: fsspec==2025.3.2.* in /usr/local/lib/python3.11/dist-packages (from s3fs) (2025.3.2)\n",
            "  Downloading s3fs-2025.3.1-py3-none-any.whl.metadata (1.9 kB)\n",
            "INFO: pip is looking at multiple versions of s3fs to determine which version is compatible with other requirements. This could take a while.\n",
            "  Downloading s3fs-2025.3.0-py3-none-any.whl.metadata (1.9 kB)\n",
            "Collecting fsspec==2025.3.0.* (from s3fs)\n",
            "  Downloading fsspec-2025.3.0-py3-none-any.whl.metadata (11 kB)\n",
            "Collecting s3fs\n",
            "  Downloading s3fs-2025.2.0-py3-none-any.whl.metadata (1.9 kB)\n",
            "Collecting fsspec==2025.2.0.* (from s3fs)\n",
            "  Downloading fsspec-2025.2.0-py3-none-any.whl.metadata (11 kB)\n",
            "Collecting s3fs\n",
            "  Downloading s3fs-2024.12.0-py3-none-any.whl.metadata (1.6 kB)\n",
            "Collecting fsspec==2024.12.0.* (from s3fs)\n",
            "  Downloading fsspec-2024.12.0-py3-none-any.whl.metadata (11 kB)\n",
            "Collecting s3fs\n",
            "  Downloading s3fs-2024.10.0-py3-none-any.whl.metadata (1.7 kB)\n",
            "Collecting fsspec==2024.10.0.* (from s3fs)\n",
            "  Downloading fsspec-2024.10.0-py3-none-any.whl.metadata (11 kB)\n",
            "Collecting s3fs\n",
            "  Downloading s3fs-2024.9.0-py3-none-any.whl.metadata (1.6 kB)\n",
            "Collecting fsspec==2024.9.0.* (from s3fs)\n",
            "  Downloading fsspec-2024.9.0-py3-none-any.whl.metadata (11 kB)\n",
            "Collecting s3fs\n",
            "  Downloading s3fs-2024.6.1-py3-none-any.whl.metadata (1.6 kB)\n",
            "Collecting fsspec==2024.6.1.* (from s3fs)\n",
            "  Downloading fsspec-2024.6.1-py3-none-any.whl.metadata (11 kB)\n",
            "Collecting s3fs\n",
            "  Downloading s3fs-2024.6.0-py3-none-any.whl.metadata (1.6 kB)\n",
            "Collecting fsspec==2024.6.0.* (from s3fs)\n",
            "  Downloading fsspec-2024.6.0-py3-none-any.whl.metadata (11 kB)\n",
            "INFO: pip is still looking at multiple versions of s3fs to determine which version is compatible with other requirements. This could take a while.\n",
            "Collecting s3fs\n",
            "  Downloading s3fs-2024.5.0-py3-none-any.whl.metadata (1.6 kB)\n",
            "Collecting fsspec==2024.5.0.* (from s3fs)\n",
            "  Downloading fsspec-2024.5.0-py3-none-any.whl.metadata (11 kB)\n",
            "Collecting s3fs\n",
            "  Downloading s3fs-2024.3.1-py3-none-any.whl.metadata (1.6 kB)\n",
            "Collecting fsspec==2024.3.1 (from s3fs)\n",
            "  Downloading fsspec-2024.3.1-py3-none-any.whl.metadata (6.8 kB)\n",
            "Collecting s3fs\n",
            "  Downloading s3fs-2024.3.0-py3-none-any.whl.metadata (1.6 kB)\n",
            "Collecting fsspec==2024.3.0 (from s3fs)\n",
            "  Downloading fsspec-2024.3.0-py3-none-any.whl.metadata (6.8 kB)\n",
            "Collecting s3fs\n",
            "  Downloading s3fs-2024.2.0-py3-none-any.whl.metadata (1.6 kB)\n",
            "Collecting fsspec==2024.2.0 (from s3fs)\n",
            "  Downloading fsspec-2024.2.0-py3-none-any.whl.metadata (6.8 kB)\n",
            "Collecting s3fs\n",
            "  Downloading s3fs-2023.12.2-py3-none-any.whl.metadata (1.6 kB)\n",
            "Collecting fsspec==2023.12.2 (from s3fs)\n",
            "  Downloading fsspec-2023.12.2-py3-none-any.whl.metadata (6.8 kB)\n",
            "INFO: This is taking longer than usual. You might need to provide the dependency resolver with stricter constraints to reduce runtime. See https://pip.pypa.io/warnings/backtracking for guidance. If you want to abort this run, press Ctrl + C.\n",
            "Collecting s3fs\n",
            "  Downloading s3fs-2023.12.1-py3-none-any.whl.metadata (1.6 kB)\n",
            "Collecting fsspec==2023.12.1 (from s3fs)\n",
            "  Downloading fsspec-2023.12.1-py3-none-any.whl.metadata (6.8 kB)\n",
            "Collecting s3fs\n",
            "  Downloading s3fs-2023.10.0-py3-none-any.whl.metadata (1.6 kB)\n",
            "Collecting fsspec==2023.10.0 (from s3fs)\n",
            "  Downloading fsspec-2023.10.0-py3-none-any.whl.metadata (6.8 kB)\n",
            "Collecting s3fs\n",
            "  Downloading s3fs-2023.9.2-py3-none-any.whl.metadata (1.6 kB)\n",
            "Collecting fsspec==2023.9.2 (from s3fs)\n",
            "  Downloading fsspec-2023.9.2-py3-none-any.whl.metadata (6.7 kB)\n",
            "Collecting s3fs\n",
            "  Downloading s3fs-2023.9.1-py3-none-any.whl.metadata (1.6 kB)\n",
            "Collecting fsspec==2023.9.1 (from s3fs)\n",
            "  Downloading fsspec-2023.9.1-py3-none-any.whl.metadata (6.7 kB)\n",
            "Collecting s3fs\n",
            "  Downloading s3fs-2023.9.0-py3-none-any.whl.metadata (1.6 kB)\n",
            "Collecting fsspec==2023.9.0 (from s3fs)\n",
            "  Downloading fsspec-2023.9.0-py3-none-any.whl.metadata (6.7 kB)\n",
            "Collecting s3fs\n",
            "  Downloading s3fs-2023.6.0-py3-none-any.whl.metadata (1.6 kB)\n",
            "Collecting fsspec==2023.6.0 (from s3fs)\n",
            "  Downloading fsspec-2023.6.0-py3-none-any.whl.metadata (6.7 kB)\n",
            "Collecting aiobotocore~=2.5.0 (from s3fs)\n",
            "  Downloading aiobotocore-2.5.3-py3-none-any.whl.metadata (19 kB)\n",
            "  Downloading aiobotocore-2.5.2-py3-none-any.whl.metadata (19 kB)\n",
            "  Downloading aiobotocore-2.5.1-py3-none-any.whl.metadata (19 kB)\n",
            "  Downloading aiobotocore-2.5.0-py3-none-any.whl.metadata (19 kB)\n",
            "Collecting s3fs\n",
            "  Downloading s3fs-2023.5.0-py3-none-any.whl.metadata (1.6 kB)\n",
            "Collecting fsspec==2023.5.0 (from s3fs)\n",
            "  Downloading fsspec-2023.5.0-py3-none-any.whl.metadata (6.7 kB)\n",
            "Collecting s3fs\n",
            "  Downloading s3fs-2023.4.0-py3-none-any.whl.metadata (1.6 kB)\n",
            "Collecting fsspec==2023.4.0 (from s3fs)\n",
            "  Downloading fsspec-2023.4.0-py3-none-any.whl.metadata (6.7 kB)\n",
            "Collecting s3fs\n",
            "  Downloading s3fs-2023.3.0-py3-none-any.whl.metadata (1.6 kB)\n",
            "Collecting aiobotocore~=2.4.2 (from s3fs)\n",
            "  Downloading aiobotocore-2.4.2-py3-none-any.whl.metadata (19 kB)\n",
            "Collecting fsspec==2023.3.0 (from s3fs)\n",
            "  Downloading fsspec-2023.3.0-py3-none-any.whl.metadata (5.5 kB)\n",
            "Collecting s3fs\n",
            "  Downloading s3fs-2023.1.0-py3-none-any.whl.metadata (1.5 kB)\n",
            "Collecting fsspec==2023.1.0 (from s3fs)\n",
            "  Downloading fsspec-2023.1.0-py3-none-any.whl.metadata (5.5 kB)\n",
            "Collecting s3fs\n",
            "  Downloading s3fs-2022.11.0-py3-none-any.whl.metadata (1.5 kB)\n",
            "Collecting fsspec==2022.11.0 (from s3fs)\n",
            "  Downloading fsspec-2022.11.0-py3-none-any.whl.metadata (5.6 kB)\n",
            "Collecting aiobotocore~=2.4.0 (from s3fs)\n",
            "  Downloading aiobotocore-2.4.1-py3-none-any.whl.metadata (19 kB)\n",
            "  Downloading aiobotocore-2.4.0-py3-none-any.whl.metadata (19 kB)\n",
            "Collecting s3fs\n",
            "  Downloading s3fs-2022.10.0-py3-none-any.whl.metadata (1.5 kB)\n",
            "Collecting fsspec==2022.10.0 (from s3fs)\n",
            "  Downloading fsspec-2022.10.0-py3-none-any.whl.metadata (5.6 kB)\n",
            "Collecting s3fs\n",
            "  Downloading s3fs-2022.8.2-py3-none-any.whl.metadata (1.6 kB)\n",
            "Collecting fsspec==2022.8.2 (from s3fs)\n",
            "  Downloading fsspec-2022.8.2-py3-none-any.whl.metadata (5.6 kB)\n",
            "Collecting s3fs\n",
            "  Downloading s3fs-2022.8.1-py3-none-any.whl.metadata (1.6 kB)\n",
            "Collecting fsspec==2022.8.1 (from s3fs)\n",
            "  Downloading fsspec-2022.8.1-py3-none-any.whl.metadata (5.6 kB)\n",
            "Collecting s3fs\n",
            "  Downloading s3fs-2022.8.0-py3-none-any.whl.metadata (1.6 kB)\n",
            "Collecting fsspec==2022.8.0 (from s3fs)\n",
            "  Downloading fsspec-2022.8.0-py3-none-any.whl.metadata (5.6 kB)\n",
            "Collecting s3fs\n",
            "  Downloading s3fs-2022.7.1-py3-none-any.whl.metadata (1.5 kB)\n",
            "Collecting aiobotocore~=2.3.4 (from s3fs)\n",
            "  Downloading aiobotocore-2.3.4-py3-none-any.whl.metadata (19 kB)\n",
            "Collecting fsspec==2022.7.1 (from s3fs)\n",
            "  Downloading fsspec-2022.7.1-py3-none-any.whl.metadata (5.6 kB)\n",
            "Collecting s3fs\n",
            "  Downloading s3fs-2022.7.0-py3-none-any.whl.metadata (1.5 kB)\n",
            "Collecting fsspec==2022.7.0 (from s3fs)\n",
            "  Downloading fsspec-2022.7.0-py3-none-any.whl.metadata (5.6 kB)\n",
            "Collecting s3fs\n",
            "  Downloading s3fs-2022.5.0-py3-none-any.whl.metadata (1.5 kB)\n",
            "Collecting fsspec==2022.5.0 (from s3fs)\n",
            "  Downloading fsspec-2022.5.0-py3-none-any.whl.metadata (5.5 kB)\n",
            "Collecting aiobotocore~=2.3.0 (from s3fs)\n",
            "  Downloading aiobotocore-2.3.3.tar.gz (65 kB)\n",
            "\u001b[2K     \u001b[90m━━━━━━━━━━━━━━━━━━━━━━━━━━━━━━━━━━━━━━━━\u001b[0m \u001b[32m65.7/65.7 kB\u001b[0m \u001b[31m2.3 MB/s\u001b[0m eta \u001b[36m0:00:00\u001b[0m\n",
            "\u001b[?25h  Preparing metadata (setup.py) ... \u001b[?25l\u001b[?25hdone\n",
            "  Downloading aiobotocore-2.3.2.tar.gz (104 kB)\n",
            "\u001b[2K     \u001b[90m━━━━━━━━━━━━━━━━━━━━━━━━━━━━━━━━━━━━━━━\u001b[0m \u001b[32m104.8/104.8 kB\u001b[0m \u001b[31m6.6 MB/s\u001b[0m eta \u001b[36m0:00:00\u001b[0m\n",
            "\u001b[?25h  Preparing metadata (setup.py) ... \u001b[?25l\u001b[?25hdone\n",
            "  Downloading aiobotocore-2.3.1.tar.gz (65 kB)\n",
            "\u001b[2K     \u001b[90m━━━━━━━━━━━━━━━━━━━━━━━━━━━━━━━━━━━━━━━━\u001b[0m \u001b[32m65.3/65.3 kB\u001b[0m \u001b[31m5.1 MB/s\u001b[0m eta \u001b[36m0:00:00\u001b[0m\n",
            "\u001b[?25h  Preparing metadata (setup.py) ... \u001b[?25l\u001b[?25hdone\n",
            "  Downloading aiobotocore-2.3.0.tar.gz (65 kB)\n",
            "\u001b[2K     \u001b[90m━━━━━━━━━━━━━━━━━━━━━━━━━━━━━━━━━━━━━━━━\u001b[0m \u001b[32m65.1/65.1 kB\u001b[0m \u001b[31m4.8 MB/s\u001b[0m eta \u001b[36m0:00:00\u001b[0m\n",
            "\u001b[?25h  Preparing metadata (setup.py) ... \u001b[?25l\u001b[?25hdone\n",
            "Collecting s3fs\n",
            "  Downloading s3fs-2022.3.0-py3-none-any.whl.metadata (1.5 kB)\n",
            "Collecting aiobotocore~=2.2.0 (from s3fs)\n",
            "  Downloading aiobotocore-2.2.0.tar.gz (59 kB)\n",
            "\u001b[2K     \u001b[90m━━━━━━━━━━━━━━━━━━━━━━━━━━━━━━━━━━━━━━━━\u001b[0m \u001b[32m59.7/59.7 kB\u001b[0m \u001b[31m4.8 MB/s\u001b[0m eta \u001b[36m0:00:00\u001b[0m\n",
            "\u001b[?25h  Preparing metadata (setup.py) ... \u001b[?25l\u001b[?25hdone\n",
            "Collecting fsspec==2022.3.0 (from s3fs)\n",
            "  Downloading fsspec-2022.3.0-py3-none-any.whl.metadata (5.5 kB)\n",
            "Collecting s3fs\n",
            "  Downloading s3fs-2022.2.0-py3-none-any.whl.metadata (1.5 kB)\n",
            "Collecting aiobotocore~=2.1.0 (from s3fs)\n",
            "  Downloading aiobotocore-2.1.2-py3-none-any.whl.metadata (18 kB)\n",
            "Collecting fsspec==2022.02.0 (from s3fs)\n",
            "  Downloading fsspec-2022.2.0-py3-none-any.whl.metadata (5.3 kB)\n",
            "Collecting aiobotocore~=2.1.0 (from s3fs)\n",
            "  Downloading aiobotocore-2.1.1.tar.gz (57 kB)\n",
            "\u001b[2K     \u001b[90m━━━━━━━━━━━━━━━━━━━━━━━━━━━━━━━━━━━━━━━━\u001b[0m \u001b[32m57.5/57.5 kB\u001b[0m \u001b[31m4.2 MB/s\u001b[0m eta \u001b[36m0:00:00\u001b[0m\n",
            "\u001b[?25h  Preparing metadata (setup.py) ... \u001b[?25l\u001b[?25hdone\n",
            "  Downloading aiobotocore-2.1.0.tar.gz (54 kB)\n",
            "\u001b[2K     \u001b[90m━━━━━━━━━━━━━━━━━━━━━━━━━━━━━━━━━━━━━━━━\u001b[0m \u001b[32m54.6/54.6 kB\u001b[0m \u001b[31m4.4 MB/s\u001b[0m eta \u001b[36m0:00:00\u001b[0m\n",
            "\u001b[?25h  Preparing metadata (setup.py) ... \u001b[?25l\u001b[?25hdone\n",
            "Collecting s3fs\n",
            "  Downloading s3fs-2022.1.0-py3-none-any.whl.metadata (1.6 kB)\n",
            "Collecting fsspec==2022.01.0 (from s3fs)\n",
            "  Downloading fsspec-2022.1.0-py3-none-any.whl.metadata (5.4 kB)\n",
            "Collecting s3fs\n",
            "  Downloading s3fs-2021.11.1-py3-none-any.whl.metadata (1.6 kB)\n",
            "Collecting aiobotocore~=2.0.1 (from s3fs)\n",
            "  Downloading aiobotocore-2.0.1.tar.gz (54 kB)\n",
            "\u001b[2K     \u001b[90m━━━━━━━━━━━━━━━━━━━━━━━━━━━━━━━━━━━━━━━━\u001b[0m \u001b[32m54.5/54.5 kB\u001b[0m \u001b[31m3.5 MB/s\u001b[0m eta \u001b[36m0:00:00\u001b[0m\n",
            "\u001b[?25h  Preparing metadata (setup.py) ... \u001b[?25l\u001b[?25hdone\n",
            "Collecting fsspec==2021.11.1 (from s3fs)\n",
            "  Downloading fsspec-2021.11.1-py3-none-any.whl.metadata (5.4 kB)\n",
            "Collecting s3fs\n",
            "  Downloading s3fs-2021.11.0-py3-none-any.whl.metadata (1.6 kB)\n",
            "Collecting aiobotocore~=1.4.1 (from s3fs)\n",
            "  Downloading aiobotocore-1.4.2.tar.gz (52 kB)\n",
            "\u001b[2K     \u001b[90m━━━━━━━━━━━━━━━━━━━━━━━━━━━━━━━━━━━━━━━━\u001b[0m \u001b[32m52.5/52.5 kB\u001b[0m \u001b[31m4.1 MB/s\u001b[0m eta \u001b[36m0:00:00\u001b[0m\n",
            "\u001b[?25h  Preparing metadata (setup.py) ... \u001b[?25l\u001b[?25hdone\n",
            "Collecting fsspec==2021.11.0 (from s3fs)\n",
            "  Downloading fsspec-2021.11.0-py3-none-any.whl.metadata (5.4 kB)\n",
            "Collecting aiobotocore~=1.4.1 (from s3fs)\n",
            "  Downloading aiobotocore-1.4.1.tar.gz (52 kB)\n",
            "\u001b[2K     \u001b[90m━━━━━━━━━━━━━━━━━━━━━━━━━━━━━━━━━━━━━━━━\u001b[0m \u001b[32m52.3/52.3 kB\u001b[0m \u001b[31m3.7 MB/s\u001b[0m eta \u001b[36m0:00:00\u001b[0m\n",
            "\u001b[?25h  Preparing metadata (setup.py) ... \u001b[?25l\u001b[?25hdone\n",
            "Collecting s3fs\n",
            "  Downloading s3fs-2021.10.1-py3-none-any.whl.metadata (1.5 kB)\n",
            "Collecting fsspec==2021.10.1 (from s3fs)\n",
            "  Downloading fsspec-2021.10.1-py3-none-any.whl.metadata (5.4 kB)\n",
            "Collecting s3fs\n",
            "  Downloading s3fs-2021.10.0-py3-none-any.whl.metadata (1.5 kB)\n",
            "Collecting fsspec==2021.10.0 (from s3fs)\n",
            "  Downloading fsspec-2021.10.0-py3-none-any.whl.metadata (5.4 kB)\n",
            "Collecting s3fs\n",
            "  Downloading s3fs-2021.9.0-py3-none-any.whl.metadata (1.5 kB)\n",
            "Collecting fsspec==2021.09.0 (from s3fs)\n",
            "  Downloading fsspec-2021.9.0-py3-none-any.whl.metadata (5.4 kB)\n",
            "Collecting s3fs\n",
            "  Downloading s3fs-2021.8.1-py3-none-any.whl.metadata (1.5 kB)\n",
            "Collecting fsspec==2021.08.1 (from s3fs)\n",
            "  Downloading fsspec-2021.8.1-py3-none-any.whl.metadata (5.0 kB)\n",
            "Collecting aiobotocore~=1.4.0 (from s3fs)\n",
            "  Downloading aiobotocore-1.4.0.tar.gz (51 kB)\n",
            "\u001b[2K     \u001b[90m━━━━━━━━━━━━━━━━━━━━━━━━━━━━━━━━━━━━━━━━\u001b[0m \u001b[32m51.6/51.6 kB\u001b[0m \u001b[31m3.9 MB/s\u001b[0m eta \u001b[36m0:00:00\u001b[0m\n",
            "\u001b[?25h  Preparing metadata (setup.py) ... \u001b[?25l\u001b[?25hdone\n",
            "Collecting s3fs\n",
            "  Downloading s3fs-2021.8.0-py3-none-any.whl.metadata (1.5 kB)\n",
            "Collecting fsspec==2021.07.0 (from s3fs)\n",
            "  Downloading fsspec-2021.7.0-py3-none-any.whl.metadata (5.0 kB)\n",
            "Collecting s3fs\n",
            "  Downloading s3fs-2021.7.0-py3-none-any.whl.metadata (1.5 kB)\n",
            "Collecting aiobotocore>=1.0.1 (from s3fs)\n",
            "  Downloading aiobotocore-2.0.0.tar.gz (52 kB)\n",
            "\u001b[2K     \u001b[90m━━━━━━━━━━━━━━━━━━━━━━━━━━━━━━━━━━━━━━━━\u001b[0m \u001b[32m53.0/53.0 kB\u001b[0m \u001b[31m4.1 MB/s\u001b[0m eta \u001b[36m0:00:00\u001b[0m\n",
            "\u001b[?25h  Preparing metadata (setup.py) ... \u001b[?25l\u001b[?25hdone\n",
            "  Downloading aiobotocore-1.3.3.tar.gz (50 kB)\n",
            "\u001b[2K     \u001b[90m━━━━━━━━━━━━━━━━━━━━━━━━━━━━━━━━━━━━━━━━\u001b[0m \u001b[32m50.6/50.6 kB\u001b[0m \u001b[31m4.1 MB/s\u001b[0m eta \u001b[36m0:00:00\u001b[0m\n",
            "\u001b[?25h  Preparing metadata (setup.py) ... \u001b[?25l\u001b[?25hdone\n",
            "  Downloading aiobotocore-1.3.2.tar.gz (49 kB)\n",
            "\u001b[2K     \u001b[90m━━━━━━━━━━━━━━━━━━━━━━━━━━━━━━━━━━━━━━━━\u001b[0m \u001b[32m49.1/49.1 kB\u001b[0m \u001b[31m4.0 MB/s\u001b[0m eta \u001b[36m0:00:00\u001b[0m\n",
            "\u001b[?25h  Preparing metadata (setup.py) ... \u001b[?25l\u001b[?25hdone\n",
            "  Downloading aiobotocore-1.3.1.tar.gz (48 kB)\n",
            "\u001b[2K     \u001b[90m━━━━━━━━━━━━━━━━━━━━━━━━━━━━━━━━━━━━━━━━\u001b[0m \u001b[32m48.8/48.8 kB\u001b[0m \u001b[31m3.4 MB/s\u001b[0m eta \u001b[36m0:00:00\u001b[0m\n",
            "\u001b[?25h  Preparing metadata (setup.py) ... \u001b[?25l\u001b[?25hdone\n",
            "  Downloading aiobotocore-1.3.0.tar.gz (48 kB)\n",
            "\u001b[2K     \u001b[90m━━━━━━━━━━━━━━━━━━━━━━━━━━━━━━━━━━━━━━━━\u001b[0m \u001b[32m48.2/48.2 kB\u001b[0m \u001b[31m3.6 MB/s\u001b[0m eta \u001b[36m0:00:00\u001b[0m\n",
            "\u001b[?25h  Preparing metadata (setup.py) ... \u001b[?25l\u001b[?25hdone\n",
            "  Downloading aiobotocore-1.2.2.tar.gz (48 kB)\n",
            "\u001b[2K     \u001b[90m━━━━━━━━━━━━━━━━━━━━━━━━━━━━━━━━━━━━━━━━\u001b[0m \u001b[32m48.1/48.1 kB\u001b[0m \u001b[31m3.3 MB/s\u001b[0m eta \u001b[36m0:00:00\u001b[0m\n",
            "\u001b[?25h  Preparing metadata (setup.py) ... \u001b[?25l\u001b[?25hdone\n",
            "  Downloading aiobotocore-1.2.1.tar.gz (48 kB)\n",
            "\u001b[2K     \u001b[90m━━━━━━━━━━━━━━━━━━━━━━━━━━━━━━━━━━━━━━━━\u001b[0m \u001b[32m48.0/48.0 kB\u001b[0m \u001b[31m3.5 MB/s\u001b[0m eta \u001b[36m0:00:00\u001b[0m\n",
            "\u001b[?25h  Preparing metadata (setup.py) ... \u001b[?25l\u001b[?25hdone\n",
            "  Downloading aiobotocore-1.2.0.tar.gz (47 kB)\n",
            "\u001b[2K     \u001b[90m━━━━━━━━━━━━━━━━━━━━━━━━━━━━━━━━━━━━━━━━\u001b[0m \u001b[32m47.3/47.3 kB\u001b[0m \u001b[31m2.8 MB/s\u001b[0m eta \u001b[36m0:00:00\u001b[0m\n",
            "\u001b[?25h  Preparing metadata (setup.py) ... \u001b[?25l\u001b[?25hdone\n",
            "  Downloading aiobotocore-1.1.2-py3-none-any.whl.metadata (13 kB)\n",
            "  Downloading aiobotocore-1.1.1-py3-none-any.whl.metadata (13 kB)\n",
            "  Downloading aiobotocore-1.1.0-py3-none-any.whl.metadata (13 kB)\n",
            "  Downloading aiobotocore-1.0.7-py3-none-any.whl.metadata (13 kB)\n",
            "  Downloading aiobotocore-1.0.6-py3-none-any.whl.metadata (13 kB)\n",
            "  Downloading aiobotocore-1.0.5-py3-none-any.whl.metadata (13 kB)\n",
            "  Downloading aiobotocore-1.0.4-py3-none-any.whl.metadata (12 kB)\n",
            "  Downloading aiobotocore-1.0.3-py3-none-any.whl.metadata (12 kB)\n",
            "  Downloading aiobotocore-1.0.2-py3-none-any.whl.metadata (11 kB)\n",
            "  Downloading aiobotocore-1.0.1-py3-none-any.whl.metadata (11 kB)\n",
            "Collecting s3fs\n",
            "  Downloading s3fs-2021.6.1-py3-none-any.whl.metadata (1.5 kB)\n",
            "Collecting fsspec==2021.06.1 (from s3fs)\n",
            "  Downloading fsspec-2021.6.1-py3-none-any.whl.metadata (5.2 kB)\n",
            "Collecting s3fs\n",
            "  Downloading s3fs-2021.6.0-py3-none-any.whl.metadata (1.5 kB)\n",
            "Collecting fsspec==2021.06.0 (from s3fs)\n",
            "  Downloading fsspec-2021.6.0-py3-none-any.whl.metadata (5.2 kB)\n",
            "Collecting s3fs\n",
            "  Downloading s3fs-2021.5.0-py3-none-any.whl.metadata (1.5 kB)\n",
            "Collecting fsspec==2021.05.0 (from s3fs)\n",
            "  Downloading fsspec-2021.5.0-py3-none-any.whl.metadata (5.2 kB)\n",
            "Collecting s3fs\n",
            "  Downloading s3fs-2021.4.0-py3-none-any.whl.metadata (1.5 kB)\n",
            "Collecting fsspec==2021.04.0 (from s3fs)\n",
            "  Downloading fsspec-2021.4.0-py3-none-any.whl.metadata (5.2 kB)\n",
            "Collecting s3fs\n",
            "  Downloading s3fs-0.6.0-py3-none-any.whl.metadata (1.4 kB)\n",
            "  Downloading s3fs-0.5.2-py3-none-any.whl.metadata (1.2 kB)\n",
            "  Downloading s3fs-0.5.1-py3-none-any.whl.metadata (1.3 kB)\n",
            "  Downloading s3fs-0.5.0-py3-none-any.whl.metadata (1.3 kB)\n",
            "  Downloading s3fs-0.4.2-py3-none-any.whl.metadata (1.3 kB)\n",
            "Requirement already satisfied: six>=1.5 in /usr/local/lib/python3.11/dist-packages (from python-dateutil>=2.8.2->pandas) (1.17.0)\n",
            "Downloading boto3-1.38.41-py3-none-any.whl (139 kB)\n",
            "\u001b[2K   \u001b[90m━━━━━━━━━━━━━━━━━━━━━━━━━━━━━━━━━━━━━━━━\u001b[0m \u001b[32m139.9/139.9 kB\u001b[0m \u001b[31m11.2 MB/s\u001b[0m eta \u001b[36m0:00:00\u001b[0m\n",
            "\u001b[?25hDownloading psycopg2_binary-2.9.10-cp311-cp311-manylinux_2_17_x86_64.manylinux2014_x86_64.whl (3.0 MB)\n",
            "\u001b[2K   \u001b[90m━━━━━━━━━━━━━━━━━━━━━━━━━━━━━━━━━━━━━━━━\u001b[0m \u001b[32m3.0/3.0 MB\u001b[0m \u001b[31m49.4 MB/s\u001b[0m eta \u001b[36m0:00:00\u001b[0m\n",
            "\u001b[?25hDownloading botocore-1.38.41-py3-none-any.whl (13.7 MB)\n",
            "\u001b[2K   \u001b[90m━━━━━━━━━━━━━━━━━━━━━━━━━━━━━━━━━━━━━━━━\u001b[0m \u001b[32m13.7/13.7 MB\u001b[0m \u001b[31m105.9 MB/s\u001b[0m eta \u001b[36m0:00:00\u001b[0m\n",
            "\u001b[?25hDownloading s3fs-0.4.2-py3-none-any.whl (19 kB)\n",
            "Downloading jmespath-1.0.1-py3-none-any.whl (20 kB)\n",
            "Downloading s3transfer-0.13.0-py3-none-any.whl (85 kB)\n",
            "\u001b[2K   \u001b[90m━━━━━━━━━━━━━━━━━━━━━━━━━━━━━━━━━━━━━━━━\u001b[0m \u001b[32m85.2/85.2 kB\u001b[0m \u001b[31m6.9 MB/s\u001b[0m eta \u001b[36m0:00:00\u001b[0m\n",
            "\u001b[?25hInstalling collected packages: psycopg2-binary, jmespath, botocore, s3transfer, s3fs, boto3\n",
            "Successfully installed boto3-1.38.41 botocore-1.38.41 jmespath-1.0.1 psycopg2-binary-2.9.10 s3fs-0.4.2 s3transfer-0.13.0\n"
          ]
        },
        {
          "output_type": "display_data",
          "data": {
            "application/vnd.colab-display-data+json": {
              "pip_warning": {
                "packages": [
                  "psycopg2"
                ]
              },
              "id": "da2ac030f7004db296259c66c2d89a11"
            }
          },
          "metadata": {}
        }
      ]
    },
    {
      "cell_type": "markdown",
      "source": [
        "##Código (RDS + leitura do S3 parquet)"
      ],
      "metadata": {
        "id": "vHqgJCAj59gH"
      }
    },
    {
      "cell_type": "code",
      "source": [
        "import pandas as pd\n",
        "import psycopg2\n",
        "import boto3\n",
        "import s3fs\n",
        "from getpass import getpass\n",
        "from datetime import date\n",
        "\n",
        "# === ACESSO AO RDS ===\n",
        "host = input(\"Host do RDS: \")\n",
        "database = input(\"Nome do banco: \")\n",
        "user = input(\"Usuário do RDS: \")\n",
        "password = getpass(\"Senha do RDS: \")\n",
        "\n",
        "# Conectar ao RDS\n",
        "conn = psycopg2.connect(\n",
        "    host=host,\n",
        "    database=database,\n",
        "    user=user,\n",
        "    password=password,\n",
        "    port='5432'\n",
        ")\n",
        "\n",
        "# Ler dados da tabela vendas (pode ser tudo ou só os últimos dias)\n",
        "query = \"SELECT * FROM vendas\"\n",
        "df_rds = pd.read_sql(query, conn)\n",
        "conn.close()\n",
        "\n",
        "# === ACESSO AO S3 ===\n",
        "aws_access_key = getpass(\"AWS Access Key ID: \")\n",
        "aws_secret_key = getpass(\"AWS Secret Access Key: \")\n",
        "bucket = input(\"Bucket do S3: \").strip()\n",
        "caminho_parquet = \"bronze/base_vendas/carga_inicial/vendas_01.parquet\"\n",
        "\n",
        "# Criar sistema de arquivos S3 com boto3 + s3fs\n",
        "fs = s3fs.S3FileSystem(\n",
        "    key=aws_access_key,\n",
        "    secret=aws_secret_key\n",
        ")\n",
        "\n",
        "# Ler parquet direto do S3\n",
        "df_s3 = pd.read_parquet(f\"s3://{bucket}/{caminho_parquet}\", filesystem=fs)\n",
        "\n",
        "print(f\"🔎 Registros no RDS: {len(df_rds)}\")\n",
        "print(f\"📦 Registros no parquet S3: {len(df_s3)}\")\n"
      ],
      "metadata": {
        "colab": {
          "base_uri": "https://localhost:8080/"
        },
        "id": "xcRwDzBj5v2x",
        "outputId": "06bcfe5b-8585-4ae5-c8b1-ae37ddeb0519"
      },
      "execution_count": null,
      "outputs": [
        {
          "name": "stdout",
          "output_type": "stream",
          "text": [
            "Host do RDS: fort-tech.c6l8w0a8uczb.us-east-1.rds.amazonaws.com\n",
            "Nome do banco: postgres\n",
            "Usuário do RDS: postgres\n",
            "Senha do RDS: ··········\n"
          ]
        },
        {
          "output_type": "stream",
          "name": "stderr",
          "text": [
            "/tmp/ipython-input-1-45135788.py:25: UserWarning: pandas only supports SQLAlchemy connectable (engine/connection) or database string URI or sqlite3 DBAPI2 connection. Other DBAPI2 objects are not tested. Please consider using SQLAlchemy.\n",
            "  df_rds = pd.read_sql(query, conn)\n"
          ]
        },
        {
          "output_type": "stream",
          "name": "stdout",
          "text": [
            "AWS Access Key ID: ··········\n",
            "AWS Secret Access Key: ··········\n",
            "Bucket do S3: data-lake-eletro-fort\n",
            "🔎 Registros no RDS: 100\n",
            "📦 Registros no parquet S3: 50\n"
          ]
        }
      ]
    },
    {
      "cell_type": "markdown",
      "source": [
        "##🔍 Etapa 3: Comparar os id_venda e filtrar só os novos"
      ],
      "metadata": {
        "id": "qiafValM6vH5"
      }
    },
    {
      "cell_type": "code",
      "source": [
        "# Identificar IDs que já existem no parquet\n",
        "ids_existentes = set(df_s3['id_venda'])\n",
        "\n",
        "# Filtrar novos registros do RDS\n",
        "df_novos = df_rds[~df_rds['id_venda'].isin(ids_existentes)]\n",
        "\n",
        "print(f\"🆕 Novos registros encontrados: {len(df_novos)}\")\n"
      ],
      "metadata": {
        "colab": {
          "base_uri": "https://localhost:8080/"
        },
        "id": "mduSWhUN6wHq",
        "outputId": "f80fe285-b40f-4fd1-9537-3977dad9367a"
      },
      "execution_count": null,
      "outputs": [
        {
          "output_type": "stream",
          "name": "stdout",
          "text": [
            "🆕 Novos registros encontrados: 50\n"
          ]
        }
      ]
    },
    {
      "cell_type": "markdown",
      "source": [
        "##💾 Etapa 4: Salvar os novos dados no S3"
      ],
      "metadata": {
        "id": "jHHmuLOa66XE"
      }
    },
    {
      "cell_type": "code",
      "source": [
        "if len(df_novos) > 0:\n",
        "    hoje = date.today().isoformat()\n",
        "    novo_arquivo = f\"bronze/base_vendas/data={hoje}/vendas_{hoje}.parquet\"\n",
        "\n",
        "    df_novos.to_parquet(\n",
        "        f\"s3://{bucket}/{novo_arquivo}\",\n",
        "        index=False,\n",
        "        engine='pyarrow',\n",
        "        filesystem=fs\n",
        "    )\n",
        "    print(f\"✅ Novos dados salvos em: s3://{bucket}/{novo_arquivo}\")\n",
        "else:\n",
        "    print(\"✅ Nenhum novo registro para salvar.\")\n"
      ],
      "metadata": {
        "colab": {
          "base_uri": "https://localhost:8080/"
        },
        "id": "XNAHDlYO68tY",
        "outputId": "e1173d1e-4152-46d3-e6f0-cecf7464dbfd"
      },
      "execution_count": null,
      "outputs": [
        {
          "output_type": "stream",
          "name": "stdout",
          "text": [
            "✅ Novos dados salvos em: s3://data-lake-eletro-fort/bronze/base_vendas/data=2025-06-21/vendas_2025-06-21.parquet\n"
          ]
        }
      ]
    }
  ]
}