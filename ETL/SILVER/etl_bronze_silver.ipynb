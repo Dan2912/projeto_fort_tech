{
  "nbformat": 4,
  "nbformat_minor": 0,
  "metadata": {
    "colab": {
      "provenance": [],
      "authorship_tag": "ABX9TyNqwSy8YNjSjJEDNnHl5fBM",
      "include_colab_link": true
    },
    "kernelspec": {
      "name": "python3",
      "display_name": "Python 3"
    },
    "language_info": {
      "name": "python"
    }
  },
  "cells": [
    {
      "cell_type": "markdown",
      "metadata": {
        "id": "view-in-github",
        "colab_type": "text"
      },
      "source": [
        "<a href=\"https://colab.research.google.com/github/Dan2912/projeto_fort_tech/blob/main/ETL/SILVER/etl_bronze_silver.ipynb\" target=\"_parent\"><img src=\"https://colab.research.google.com/assets/colab-badge.svg\" alt=\"Open In Colab\"/></a>"
      ]
    },
    {
      "cell_type": "markdown",
      "source": [
        "# ETAPA 0 - INSTALAR BIBLIOTECAS (apenas se necessário)\n"
      ],
      "metadata": {
        "id": "OvLo6k6mx0sf"
      }
    },
    {
      "cell_type": "code",
      "source": [
        "!pip install -q boto3 s3fs pandas pyarrow\n"
      ],
      "metadata": {
        "id": "uzO6D7oRyP6c"
      },
      "execution_count": 10,
      "outputs": []
    },
    {
      "cell_type": "markdown",
      "source": [
        "# ETAPA 1 - IMPORTAÇÕES"
      ],
      "metadata": {
        "id": "gANZv35y1Tda"
      }
    },
    {
      "cell_type": "code",
      "execution_count": 11,
      "metadata": {
        "id": "Z6293eN4wp_d"
      },
      "outputs": [],
      "source": [
        "import os\n",
        "from datetime import datetime\n",
        "from getpass import getpass\n",
        "import pandas as pd\n",
        "import s3fs"
      ]
    },
    {
      "cell_type": "markdown",
      "source": [
        "# ETAPA 2 - DEFINIR PARÂMETROS E CONEXÃO AO S3"
      ],
      "metadata": {
        "id": "K6LVzi-fyiwQ"
      }
    },
    {
      "cell_type": "code",
      "source": [
        "bucket = \"data-lake-eletro-fort\"\n",
        "bronze_prefix = \"bronze/base_vendas/\"\n",
        "silver_prefix = \"silver/base_vendas/\"\n",
        "\n",
        "# Subpastas da Bronze a serem unificadas\n",
        "pastas_bronze = [\n",
        "    f\"{bucket}/{bronze_prefix}carga_inicial/\",\n",
        "    f\"{bucket}/{bronze_prefix}data=2025-06-21/\"\n",
        "]\n",
        "\n",
        "# Credenciais AWS\n",
        "aws_access_key = os.getenv(\"AWS_ACCESS_KEY_ID\") or getpass(\"🔐 AWS Access Key ID: \")\n",
        "aws_secret_key = os.getenv(\"AWS_SECRET_ACCESS_KEY\") or getpass(\"🔐 AWS Secret Access Key: \")\n",
        "\n",
        "fs = s3fs.S3FileSystem(key=aws_access_key, secret=aws_secret_key)\n"
      ],
      "metadata": {
        "colab": {
          "base_uri": "https://localhost:8080/"
        },
        "id": "FnWH-Fhxyjlz",
        "outputId": "3ce1194c-4a7e-4eb4-edeb-088c4a48dddf"
      },
      "execution_count": 12,
      "outputs": [
        {
          "name": "stdout",
          "output_type": "stream",
          "text": [
            "🔐 AWS Access Key ID: ··········\n",
            "🔐 AWS Secret Access Key: ··········\n"
          ]
        }
      ]
    },
    {
      "cell_type": "markdown",
      "source": [
        "# ETAPA 3 - LER PARQUETS DAS DUAS PASTAS E UNIFICAR"
      ],
      "metadata": {
        "id": "ITrAvpS3zxZ4"
      }
    },
    {
      "cell_type": "code",
      "source": [
        "aws_access_key = os.getenv(\"AWS_ACCESS_KEY_ID\") or getpass(\"🔐 AWS Access Key ID: \")\n",
        "aws_secret_key = os.getenv(\"AWS_SECRET_ACCESS_KEY\") or getpass(\"🔐 AWS Secret Access Key: \")\n",
        "\n",
        "fs = s3fs.S3FileSystem(key=aws_access_key, secret=aws_secret_key)\n"
      ],
      "metadata": {
        "colab": {
          "base_uri": "https://localhost:8080/"
        },
        "id": "YPwYlHp_zyUX",
        "outputId": "f38c8bdb-f35a-4460-d8e3-7ee6efea38a1"
      },
      "execution_count": 7,
      "outputs": [
        {
          "name": "stdout",
          "output_type": "stream",
          "text": [
            "🔐 AWS Access Key ID: ··········\n",
            "🔐 AWS Secret Access Key: ··········\n"
          ]
        }
      ]
    },
    {
      "cell_type": "markdown",
      "source": [
        "# ETAPA 3 - LISTAR E LER PARQUETS DAS DUAS PASTAS"
      ],
      "metadata": {
        "id": "_eQhE6UZz7SI"
      }
    },
    {
      "cell_type": "code",
      "source": [
        "todos_arquivos = []\n",
        "for pasta in pastas_bronze:\n",
        "    arquivos = fs.glob(f\"{pasta}*.parquet\")\n",
        "    print(f\"📁 {pasta} ➜ {len(arquivos)} arquivos encontrados.\")\n",
        "    todos_arquivos.extend(arquivos)\n",
        "\n",
        "if not todos_arquivos:\n",
        "    raise SystemExit(\"❌ Nenhum arquivo Parquet encontrado nas pastas especificadas.\")\n",
        "\n",
        "# Unir todos os arquivos em um DataFrame\n",
        "df_bronze = pd.concat(\n",
        "    [pd.read_parquet(f\"s3://{arquivo}\", filesystem=fs) for arquivo in todos_arquivos],\n",
        "    ignore_index=True\n",
        ")\n",
        "print(f\"\\n📊 Total de registros unificados: {len(df_bronze):,}\")\n"
      ],
      "metadata": {
        "colab": {
          "base_uri": "https://localhost:8080/"
        },
        "id": "7MsFJZKIz3oa",
        "outputId": "eefb6448-0941-476b-ba19-9525ce81d056"
      },
      "execution_count": 13,
      "outputs": [
        {
          "output_type": "stream",
          "name": "stdout",
          "text": [
            "📁 data-lake-eletro-fort/bronze/base_vendas/carga_inicial/ ➜ 1 arquivos encontrados.\n",
            "📁 data-lake-eletro-fort/bronze/base_vendas/data=2025-06-21/ ➜ 1 arquivos encontrados.\n",
            "\n",
            "📊 Total de registros unificados: 100\n"
          ]
        }
      ]
    },
    {
      "cell_type": "markdown",
      "source": [
        "# ETAPA 4 - EXIBIR COLUNAS E ESCOLHER QUAIS LEVAR PARA A SILVER"
      ],
      "metadata": {
        "id": "L2CTTHSB0CnD"
      }
    },
    {
      "cell_type": "code",
      "source": [
        "print(\"\\n📌 Colunas disponíveis:\")\n",
        "for idx, col in enumerate(df_bronze.columns):\n",
        "    print(f\"{idx:>2}. {col}\")\n",
        "\n",
        "entrada = input(\"\\n✏️ Digite os NÚMEROS ou NOMES das colunas a manter (separadas por vírgula): \")\n",
        "tokens = [t.strip() for t in entrada.split(\",\") if t.strip()]\n",
        "\n",
        "colunas_escolhidas = []\n",
        "for t in tokens:\n",
        "    if t.isdigit() and int(t) < len(df_bronze.columns):\n",
        "        colunas_escolhidas.append(df_bronze.columns[int(t)])\n",
        "    else:\n",
        "        colunas_escolhidas.append(t)\n",
        "\n",
        "# Validar colunas\n",
        "colunas_escolhidas = [c for c in dict.fromkeys(colunas_escolhidas) if c in df_bronze.columns]\n",
        "if not colunas_escolhidas:\n",
        "    raise ValueError(\"❌ Nenhuma coluna válida foi selecionada.\")\n",
        "\n",
        "print(f\"\\n✅ Colunas escolhidas: {colunas_escolhidas}\")\n",
        "df_silver = df_bronze[colunas_escolhidas].copy()\n"
      ],
      "metadata": {
        "colab": {
          "base_uri": "https://localhost:8080/"
        },
        "id": "d1ZGPPEA0Bl9",
        "outputId": "7f013413-2a20-4a5a-d41b-412bfca2700d"
      },
      "execution_count": null,
      "outputs": [
        {
          "output_type": "stream",
          "name": "stdout",
          "text": [
            "\n",
            "📌 Colunas disponíveis:\n",
            " 0. id_venda\n",
            " 1. id_produto\n",
            " 2. produto\n",
            " 3. modelo\n",
            " 4. serie\n",
            " 5. id_vendedor\n",
            " 6. nome_vendedor\n",
            " 7. valor_venda\n",
            " 8. comissao_pct\n",
            " 9. valor_comissao\n",
            "10. cpf_cnpj\n",
            "11. razao_social_cliente\n",
            "12. data_venda\n",
            "13. data_entrega\n",
            "14. data_pgto_comissao\n",
            "15. transportadora\n",
            "16. codigo_rastreamento\n",
            "17. tipo_pagamento\n",
            "18. prazo_pagamento\n",
            "19. tipo_venda\n",
            "20. data\n"
          ]
        }
      ]
    },
    {
      "cell_type": "markdown",
      "source": [
        "# ETAPA 5 - APLICAR MÁSCARAS EM DADOS SENSÍVEIS"
      ],
      "metadata": {
        "id": "HyMOyAM61-EF"
      }
    },
    {
      "cell_type": "code",
      "source": [
        "import re\n",
        "\n",
        "def mascarar_cpf_cnpj(valor: str) -> str:\n",
        "    valor = re.sub(r'[^0-9]', '', str(valor))  # remove pontuação\n",
        "    if len(valor) == 11:  # CPF\n",
        "        return f'***.***.***-{valor[-2:]}'  # ***.***.***-XX\n",
        "    elif len(valor) == 14:  # CNPJ\n",
        "        return f'**.***.***/****-{valor[-2:]}'  # **.***.***/****-XX\n",
        "    else:\n",
        "        return valor  # retorna original se não for CPF/CNPJ válido\n",
        "\n",
        "if 'cpf_cnpj' in df_silver.columns:\n",
        "    df_silver['cpf_cnpj'] = df_silver['cpf_cnpj'].apply(mascarar_cpf_cnpj)\n",
        "    print(\"🔒 Coluna 'cpf_cnpj' mascarada com sucesso.\")\n"
      ],
      "metadata": {
        "colab": {
          "base_uri": "https://localhost:8080/"
        },
        "id": "tAxyse-b1-bQ",
        "outputId": "a35bdc1b-b518-463a-d945-4cd1e263de63"
      },
      "execution_count": 15,
      "outputs": [
        {
          "output_type": "stream",
          "name": "stdout",
          "text": [
            "🔒 Coluna 'cpf_cnpj' mascarada com sucesso.\n"
          ]
        }
      ]
    },
    {
      "cell_type": "markdown",
      "source": [
        "# ETAPA 6 - VISUALIZAR DADOS FINAIS APÓS MASCARAMENTO"
      ],
      "metadata": {
        "id": "Hmg9KOU22Xto"
      }
    },
    {
      "cell_type": "code",
      "source": [
        "print(\"\\n🧪 Visualização dos dados prontos para a camada Silver:\")\n",
        "display(df_silver.head(10))  # mostra as 10 primeiras linhas\n"
      ],
      "metadata": {
        "colab": {
          "base_uri": "https://localhost:8080/",
          "height": 559
        },
        "id": "ybCAsm9X2amf",
        "outputId": "1e447f4d-9798-4a06-d270-6832e83f3ad6"
      },
      "execution_count": 16,
      "outputs": [
        {
          "output_type": "stream",
          "name": "stdout",
          "text": [
            "\n",
            "🧪 Visualização dos dados prontos para a camada Silver:\n"
          ]
        },
        {
          "output_type": "display_data",
          "data": {
            "text/plain": [
              "   id_produto             produto         modelo  id_vendedor   nome_vendedor  \\\n",
              "0           4          Monitor LG      UltraGear            5     Lucas Rocha   \n",
              "1           1      Tablet Samsung  Galaxy Tab A7            4     Ana Beatriz   \n",
              "2           2       Notebook Dell    Inspiron 15            4     Ana Beatriz   \n",
              "3           4          Monitor LG      UltraGear            4     Ana Beatriz   \n",
              "4           4          Monitor LG      UltraGear            1      João Silva   \n",
              "5           2       Notebook Dell    Inspiron 15            2  Maria Oliveira   \n",
              "6           5  Fone de Ouvido JBL     Tune 510BT            4     Ana Beatriz   \n",
              "7           1      Tablet Samsung  Galaxy Tab A7            3    Carlos Souza   \n",
              "8           3    Smartphone Apple  iPhone 13 Pro            4     Ana Beatriz   \n",
              "9           5  Fone de Ouvido JBL     Tune 510BT            5     Lucas Rocha   \n",
              "\n",
              "   valor_venda  comissao_pct  valor_comissao        cpf_cnpj  \\\n",
              "0      2574.89             5          128.74  ***.***.***-07   \n",
              "1      2860.44             5          143.02  ***.***.***-61   \n",
              "2      8110.66             5          405.53  ***.***.***-05   \n",
              "3      3332.54             5          166.63  ***.***.***-95   \n",
              "4      8648.47             5          432.42  ***.***.***-97   \n",
              "5      4781.51             5          239.08  ***.***.***-52   \n",
              "6      5164.56             5          258.23  ***.***.***-51   \n",
              "7      3793.77             5          189.69  ***.***.***-40   \n",
              "8      5982.01             5          299.10  ***.***.***-30   \n",
              "9       615.51             5           30.78  ***.***.***-05   \n",
              "\n",
              "     razao_social_cliente  data_venda     tipo_pagamento prazo_pagamento  \\\n",
              "0       Carvalho e Filhos  14/06/2025   Cartão de Débito    3x Sem Juros   \n",
              "1                  Fogaça  20/06/2025   Cartão de Débito         À Vista   \n",
              "2          Sales e Filhos  11/06/2025             Boleto   12x com Juros   \n",
              "3            Martins S.A.  14/06/2025             Boleto    3x Sem Juros   \n",
              "4  Duarte Cavalcanti S.A.  13/06/2025  Cartão de Crédito         À Vista   \n",
              "5                Caldeira  18/06/2025             Boleto   12x com Juros   \n",
              "6      Caldeira Porto S/A  16/06/2025                Pix   12x com Juros   \n",
              "7       Melo Cardoso - EI  15/06/2025   Cartão de Débito   12x com Juros   \n",
              "8                 da Mota  17/06/2025   Cartão de Débito   12x com Juros   \n",
              "9                    Dias  12/06/2025             Boleto    3x Sem Juros   \n",
              "\n",
              "   tipo_venda  \n",
              "0  Presencial  \n",
              "1      Online  \n",
              "2  Presencial  \n",
              "3      Online  \n",
              "4  Presencial  \n",
              "5      Online  \n",
              "6      Online  \n",
              "7  Presencial  \n",
              "8  Presencial  \n",
              "9      Online  "
            ],
            "text/html": [
              "\n",
              "  <div id=\"df-d142ae4c-f553-42c0-82a2-5fbfa78bc6a6\" class=\"colab-df-container\">\n",
              "    <div>\n",
              "<style scoped>\n",
              "    .dataframe tbody tr th:only-of-type {\n",
              "        vertical-align: middle;\n",
              "    }\n",
              "\n",
              "    .dataframe tbody tr th {\n",
              "        vertical-align: top;\n",
              "    }\n",
              "\n",
              "    .dataframe thead th {\n",
              "        text-align: right;\n",
              "    }\n",
              "</style>\n",
              "<table border=\"1\" class=\"dataframe\">\n",
              "  <thead>\n",
              "    <tr style=\"text-align: right;\">\n",
              "      <th></th>\n",
              "      <th>id_produto</th>\n",
              "      <th>produto</th>\n",
              "      <th>modelo</th>\n",
              "      <th>id_vendedor</th>\n",
              "      <th>nome_vendedor</th>\n",
              "      <th>valor_venda</th>\n",
              "      <th>comissao_pct</th>\n",
              "      <th>valor_comissao</th>\n",
              "      <th>cpf_cnpj</th>\n",
              "      <th>razao_social_cliente</th>\n",
              "      <th>data_venda</th>\n",
              "      <th>tipo_pagamento</th>\n",
              "      <th>prazo_pagamento</th>\n",
              "      <th>tipo_venda</th>\n",
              "    </tr>\n",
              "  </thead>\n",
              "  <tbody>\n",
              "    <tr>\n",
              "      <th>0</th>\n",
              "      <td>4</td>\n",
              "      <td>Monitor LG</td>\n",
              "      <td>UltraGear</td>\n",
              "      <td>5</td>\n",
              "      <td>Lucas Rocha</td>\n",
              "      <td>2574.89</td>\n",
              "      <td>5</td>\n",
              "      <td>128.74</td>\n",
              "      <td>***.***.***-07</td>\n",
              "      <td>Carvalho e Filhos</td>\n",
              "      <td>14/06/2025</td>\n",
              "      <td>Cartão de Débito</td>\n",
              "      <td>3x Sem Juros</td>\n",
              "      <td>Presencial</td>\n",
              "    </tr>\n",
              "    <tr>\n",
              "      <th>1</th>\n",
              "      <td>1</td>\n",
              "      <td>Tablet Samsung</td>\n",
              "      <td>Galaxy Tab A7</td>\n",
              "      <td>4</td>\n",
              "      <td>Ana Beatriz</td>\n",
              "      <td>2860.44</td>\n",
              "      <td>5</td>\n",
              "      <td>143.02</td>\n",
              "      <td>***.***.***-61</td>\n",
              "      <td>Fogaça</td>\n",
              "      <td>20/06/2025</td>\n",
              "      <td>Cartão de Débito</td>\n",
              "      <td>À Vista</td>\n",
              "      <td>Online</td>\n",
              "    </tr>\n",
              "    <tr>\n",
              "      <th>2</th>\n",
              "      <td>2</td>\n",
              "      <td>Notebook Dell</td>\n",
              "      <td>Inspiron 15</td>\n",
              "      <td>4</td>\n",
              "      <td>Ana Beatriz</td>\n",
              "      <td>8110.66</td>\n",
              "      <td>5</td>\n",
              "      <td>405.53</td>\n",
              "      <td>***.***.***-05</td>\n",
              "      <td>Sales e Filhos</td>\n",
              "      <td>11/06/2025</td>\n",
              "      <td>Boleto</td>\n",
              "      <td>12x com Juros</td>\n",
              "      <td>Presencial</td>\n",
              "    </tr>\n",
              "    <tr>\n",
              "      <th>3</th>\n",
              "      <td>4</td>\n",
              "      <td>Monitor LG</td>\n",
              "      <td>UltraGear</td>\n",
              "      <td>4</td>\n",
              "      <td>Ana Beatriz</td>\n",
              "      <td>3332.54</td>\n",
              "      <td>5</td>\n",
              "      <td>166.63</td>\n",
              "      <td>***.***.***-95</td>\n",
              "      <td>Martins S.A.</td>\n",
              "      <td>14/06/2025</td>\n",
              "      <td>Boleto</td>\n",
              "      <td>3x Sem Juros</td>\n",
              "      <td>Online</td>\n",
              "    </tr>\n",
              "    <tr>\n",
              "      <th>4</th>\n",
              "      <td>4</td>\n",
              "      <td>Monitor LG</td>\n",
              "      <td>UltraGear</td>\n",
              "      <td>1</td>\n",
              "      <td>João Silva</td>\n",
              "      <td>8648.47</td>\n",
              "      <td>5</td>\n",
              "      <td>432.42</td>\n",
              "      <td>***.***.***-97</td>\n",
              "      <td>Duarte Cavalcanti S.A.</td>\n",
              "      <td>13/06/2025</td>\n",
              "      <td>Cartão de Crédito</td>\n",
              "      <td>À Vista</td>\n",
              "      <td>Presencial</td>\n",
              "    </tr>\n",
              "    <tr>\n",
              "      <th>5</th>\n",
              "      <td>2</td>\n",
              "      <td>Notebook Dell</td>\n",
              "      <td>Inspiron 15</td>\n",
              "      <td>2</td>\n",
              "      <td>Maria Oliveira</td>\n",
              "      <td>4781.51</td>\n",
              "      <td>5</td>\n",
              "      <td>239.08</td>\n",
              "      <td>***.***.***-52</td>\n",
              "      <td>Caldeira</td>\n",
              "      <td>18/06/2025</td>\n",
              "      <td>Boleto</td>\n",
              "      <td>12x com Juros</td>\n",
              "      <td>Online</td>\n",
              "    </tr>\n",
              "    <tr>\n",
              "      <th>6</th>\n",
              "      <td>5</td>\n",
              "      <td>Fone de Ouvido JBL</td>\n",
              "      <td>Tune 510BT</td>\n",
              "      <td>4</td>\n",
              "      <td>Ana Beatriz</td>\n",
              "      <td>5164.56</td>\n",
              "      <td>5</td>\n",
              "      <td>258.23</td>\n",
              "      <td>***.***.***-51</td>\n",
              "      <td>Caldeira Porto S/A</td>\n",
              "      <td>16/06/2025</td>\n",
              "      <td>Pix</td>\n",
              "      <td>12x com Juros</td>\n",
              "      <td>Online</td>\n",
              "    </tr>\n",
              "    <tr>\n",
              "      <th>7</th>\n",
              "      <td>1</td>\n",
              "      <td>Tablet Samsung</td>\n",
              "      <td>Galaxy Tab A7</td>\n",
              "      <td>3</td>\n",
              "      <td>Carlos Souza</td>\n",
              "      <td>3793.77</td>\n",
              "      <td>5</td>\n",
              "      <td>189.69</td>\n",
              "      <td>***.***.***-40</td>\n",
              "      <td>Melo Cardoso - EI</td>\n",
              "      <td>15/06/2025</td>\n",
              "      <td>Cartão de Débito</td>\n",
              "      <td>12x com Juros</td>\n",
              "      <td>Presencial</td>\n",
              "    </tr>\n",
              "    <tr>\n",
              "      <th>8</th>\n",
              "      <td>3</td>\n",
              "      <td>Smartphone Apple</td>\n",
              "      <td>iPhone 13 Pro</td>\n",
              "      <td>4</td>\n",
              "      <td>Ana Beatriz</td>\n",
              "      <td>5982.01</td>\n",
              "      <td>5</td>\n",
              "      <td>299.10</td>\n",
              "      <td>***.***.***-30</td>\n",
              "      <td>da Mota</td>\n",
              "      <td>17/06/2025</td>\n",
              "      <td>Cartão de Débito</td>\n",
              "      <td>12x com Juros</td>\n",
              "      <td>Presencial</td>\n",
              "    </tr>\n",
              "    <tr>\n",
              "      <th>9</th>\n",
              "      <td>5</td>\n",
              "      <td>Fone de Ouvido JBL</td>\n",
              "      <td>Tune 510BT</td>\n",
              "      <td>5</td>\n",
              "      <td>Lucas Rocha</td>\n",
              "      <td>615.51</td>\n",
              "      <td>5</td>\n",
              "      <td>30.78</td>\n",
              "      <td>***.***.***-05</td>\n",
              "      <td>Dias</td>\n",
              "      <td>12/06/2025</td>\n",
              "      <td>Boleto</td>\n",
              "      <td>3x Sem Juros</td>\n",
              "      <td>Online</td>\n",
              "    </tr>\n",
              "  </tbody>\n",
              "</table>\n",
              "</div>\n",
              "    <div class=\"colab-df-buttons\">\n",
              "\n",
              "  <div class=\"colab-df-container\">\n",
              "    <button class=\"colab-df-convert\" onclick=\"convertToInteractive('df-d142ae4c-f553-42c0-82a2-5fbfa78bc6a6')\"\n",
              "            title=\"Convert this dataframe to an interactive table.\"\n",
              "            style=\"display:none;\">\n",
              "\n",
              "  <svg xmlns=\"http://www.w3.org/2000/svg\" height=\"24px\" viewBox=\"0 -960 960 960\">\n",
              "    <path d=\"M120-120v-720h720v720H120Zm60-500h600v-160H180v160Zm220 220h160v-160H400v160Zm0 220h160v-160H400v160ZM180-400h160v-160H180v160Zm440 0h160v-160H620v160ZM180-180h160v-160H180v160Zm440 0h160v-160H620v160Z\"/>\n",
              "  </svg>\n",
              "    </button>\n",
              "\n",
              "  <style>\n",
              "    .colab-df-container {\n",
              "      display:flex;\n",
              "      gap: 12px;\n",
              "    }\n",
              "\n",
              "    .colab-df-convert {\n",
              "      background-color: #E8F0FE;\n",
              "      border: none;\n",
              "      border-radius: 50%;\n",
              "      cursor: pointer;\n",
              "      display: none;\n",
              "      fill: #1967D2;\n",
              "      height: 32px;\n",
              "      padding: 0 0 0 0;\n",
              "      width: 32px;\n",
              "    }\n",
              "\n",
              "    .colab-df-convert:hover {\n",
              "      background-color: #E2EBFA;\n",
              "      box-shadow: 0px 1px 2px rgba(60, 64, 67, 0.3), 0px 1px 3px 1px rgba(60, 64, 67, 0.15);\n",
              "      fill: #174EA6;\n",
              "    }\n",
              "\n",
              "    .colab-df-buttons div {\n",
              "      margin-bottom: 4px;\n",
              "    }\n",
              "\n",
              "    [theme=dark] .colab-df-convert {\n",
              "      background-color: #3B4455;\n",
              "      fill: #D2E3FC;\n",
              "    }\n",
              "\n",
              "    [theme=dark] .colab-df-convert:hover {\n",
              "      background-color: #434B5C;\n",
              "      box-shadow: 0px 1px 3px 1px rgba(0, 0, 0, 0.15);\n",
              "      filter: drop-shadow(0px 1px 2px rgba(0, 0, 0, 0.3));\n",
              "      fill: #FFFFFF;\n",
              "    }\n",
              "  </style>\n",
              "\n",
              "    <script>\n",
              "      const buttonEl =\n",
              "        document.querySelector('#df-d142ae4c-f553-42c0-82a2-5fbfa78bc6a6 button.colab-df-convert');\n",
              "      buttonEl.style.display =\n",
              "        google.colab.kernel.accessAllowed ? 'block' : 'none';\n",
              "\n",
              "      async function convertToInteractive(key) {\n",
              "        const element = document.querySelector('#df-d142ae4c-f553-42c0-82a2-5fbfa78bc6a6');\n",
              "        const dataTable =\n",
              "          await google.colab.kernel.invokeFunction('convertToInteractive',\n",
              "                                                    [key], {});\n",
              "        if (!dataTable) return;\n",
              "\n",
              "        const docLinkHtml = 'Like what you see? Visit the ' +\n",
              "          '<a target=\"_blank\" href=https://colab.research.google.com/notebooks/data_table.ipynb>data table notebook</a>'\n",
              "          + ' to learn more about interactive tables.';\n",
              "        element.innerHTML = '';\n",
              "        dataTable['output_type'] = 'display_data';\n",
              "        await google.colab.output.renderOutput(dataTable, element);\n",
              "        const docLink = document.createElement('div');\n",
              "        docLink.innerHTML = docLinkHtml;\n",
              "        element.appendChild(docLink);\n",
              "      }\n",
              "    </script>\n",
              "  </div>\n",
              "\n",
              "\n",
              "    <div id=\"df-636a1a97-b0c9-4885-af05-bbac023c0922\">\n",
              "      <button class=\"colab-df-quickchart\" onclick=\"quickchart('df-636a1a97-b0c9-4885-af05-bbac023c0922')\"\n",
              "                title=\"Suggest charts\"\n",
              "                style=\"display:none;\">\n",
              "\n",
              "<svg xmlns=\"http://www.w3.org/2000/svg\" height=\"24px\"viewBox=\"0 0 24 24\"\n",
              "     width=\"24px\">\n",
              "    <g>\n",
              "        <path d=\"M19 3H5c-1.1 0-2 .9-2 2v14c0 1.1.9 2 2 2h14c1.1 0 2-.9 2-2V5c0-1.1-.9-2-2-2zM9 17H7v-7h2v7zm4 0h-2V7h2v10zm4 0h-2v-4h2v4z\"/>\n",
              "    </g>\n",
              "</svg>\n",
              "      </button>\n",
              "\n",
              "<style>\n",
              "  .colab-df-quickchart {\n",
              "      --bg-color: #E8F0FE;\n",
              "      --fill-color: #1967D2;\n",
              "      --hover-bg-color: #E2EBFA;\n",
              "      --hover-fill-color: #174EA6;\n",
              "      --disabled-fill-color: #AAA;\n",
              "      --disabled-bg-color: #DDD;\n",
              "  }\n",
              "\n",
              "  [theme=dark] .colab-df-quickchart {\n",
              "      --bg-color: #3B4455;\n",
              "      --fill-color: #D2E3FC;\n",
              "      --hover-bg-color: #434B5C;\n",
              "      --hover-fill-color: #FFFFFF;\n",
              "      --disabled-bg-color: #3B4455;\n",
              "      --disabled-fill-color: #666;\n",
              "  }\n",
              "\n",
              "  .colab-df-quickchart {\n",
              "    background-color: var(--bg-color);\n",
              "    border: none;\n",
              "    border-radius: 50%;\n",
              "    cursor: pointer;\n",
              "    display: none;\n",
              "    fill: var(--fill-color);\n",
              "    height: 32px;\n",
              "    padding: 0;\n",
              "    width: 32px;\n",
              "  }\n",
              "\n",
              "  .colab-df-quickchart:hover {\n",
              "    background-color: var(--hover-bg-color);\n",
              "    box-shadow: 0 1px 2px rgba(60, 64, 67, 0.3), 0 1px 3px 1px rgba(60, 64, 67, 0.15);\n",
              "    fill: var(--button-hover-fill-color);\n",
              "  }\n",
              "\n",
              "  .colab-df-quickchart-complete:disabled,\n",
              "  .colab-df-quickchart-complete:disabled:hover {\n",
              "    background-color: var(--disabled-bg-color);\n",
              "    fill: var(--disabled-fill-color);\n",
              "    box-shadow: none;\n",
              "  }\n",
              "\n",
              "  .colab-df-spinner {\n",
              "    border: 2px solid var(--fill-color);\n",
              "    border-color: transparent;\n",
              "    border-bottom-color: var(--fill-color);\n",
              "    animation:\n",
              "      spin 1s steps(1) infinite;\n",
              "  }\n",
              "\n",
              "  @keyframes spin {\n",
              "    0% {\n",
              "      border-color: transparent;\n",
              "      border-bottom-color: var(--fill-color);\n",
              "      border-left-color: var(--fill-color);\n",
              "    }\n",
              "    20% {\n",
              "      border-color: transparent;\n",
              "      border-left-color: var(--fill-color);\n",
              "      border-top-color: var(--fill-color);\n",
              "    }\n",
              "    30% {\n",
              "      border-color: transparent;\n",
              "      border-left-color: var(--fill-color);\n",
              "      border-top-color: var(--fill-color);\n",
              "      border-right-color: var(--fill-color);\n",
              "    }\n",
              "    40% {\n",
              "      border-color: transparent;\n",
              "      border-right-color: var(--fill-color);\n",
              "      border-top-color: var(--fill-color);\n",
              "    }\n",
              "    60% {\n",
              "      border-color: transparent;\n",
              "      border-right-color: var(--fill-color);\n",
              "    }\n",
              "    80% {\n",
              "      border-color: transparent;\n",
              "      border-right-color: var(--fill-color);\n",
              "      border-bottom-color: var(--fill-color);\n",
              "    }\n",
              "    90% {\n",
              "      border-color: transparent;\n",
              "      border-bottom-color: var(--fill-color);\n",
              "    }\n",
              "  }\n",
              "</style>\n",
              "\n",
              "      <script>\n",
              "        async function quickchart(key) {\n",
              "          const quickchartButtonEl =\n",
              "            document.querySelector('#' + key + ' button');\n",
              "          quickchartButtonEl.disabled = true;  // To prevent multiple clicks.\n",
              "          quickchartButtonEl.classList.add('colab-df-spinner');\n",
              "          try {\n",
              "            const charts = await google.colab.kernel.invokeFunction(\n",
              "                'suggestCharts', [key], {});\n",
              "          } catch (error) {\n",
              "            console.error('Error during call to suggestCharts:', error);\n",
              "          }\n",
              "          quickchartButtonEl.classList.remove('colab-df-spinner');\n",
              "          quickchartButtonEl.classList.add('colab-df-quickchart-complete');\n",
              "        }\n",
              "        (() => {\n",
              "          let quickchartButtonEl =\n",
              "            document.querySelector('#df-636a1a97-b0c9-4885-af05-bbac023c0922 button');\n",
              "          quickchartButtonEl.style.display =\n",
              "            google.colab.kernel.accessAllowed ? 'block' : 'none';\n",
              "        })();\n",
              "      </script>\n",
              "    </div>\n",
              "\n",
              "    </div>\n",
              "  </div>\n"
            ],
            "application/vnd.google.colaboratory.intrinsic+json": {
              "type": "dataframe",
              "summary": "{\n  \"name\": \"display(df_silver\",\n  \"rows\": 10,\n  \"fields\": [\n    {\n      \"column\": \"id_produto\",\n      \"properties\": {\n        \"dtype\": \"number\",\n        \"std\": 1,\n        \"min\": 1,\n        \"max\": 5,\n        \"num_unique_values\": 5,\n        \"samples\": [\n          1,\n          3,\n          2\n        ],\n        \"semantic_type\": \"\",\n        \"description\": \"\"\n      }\n    },\n    {\n      \"column\": \"produto\",\n      \"properties\": {\n        \"dtype\": \"string\",\n        \"num_unique_values\": 5,\n        \"samples\": [\n          \"Tablet Samsung\",\n          \"Smartphone Apple\",\n          \"Notebook Dell\"\n        ],\n        \"semantic_type\": \"\",\n        \"description\": \"\"\n      }\n    },\n    {\n      \"column\": \"modelo\",\n      \"properties\": {\n        \"dtype\": \"string\",\n        \"num_unique_values\": 5,\n        \"samples\": [\n          \"Galaxy Tab A7\",\n          \"iPhone 13 Pro\",\n          \"Inspiron 15\"\n        ],\n        \"semantic_type\": \"\",\n        \"description\": \"\"\n      }\n    },\n    {\n      \"column\": \"id_vendedor\",\n      \"properties\": {\n        \"dtype\": \"number\",\n        \"std\": 1,\n        \"min\": 1,\n        \"max\": 5,\n        \"num_unique_values\": 5,\n        \"samples\": [\n          4,\n          3,\n          1\n        ],\n        \"semantic_type\": \"\",\n        \"description\": \"\"\n      }\n    },\n    {\n      \"column\": \"nome_vendedor\",\n      \"properties\": {\n        \"dtype\": \"string\",\n        \"num_unique_values\": 5,\n        \"samples\": [\n          \"Ana Beatriz\",\n          \"Carlos Souza\",\n          \"Jo\\u00e3o Silva\"\n        ],\n        \"semantic_type\": \"\",\n        \"description\": \"\"\n      }\n    },\n    {\n      \"column\": \"valor_venda\",\n      \"properties\": {\n        \"dtype\": \"number\",\n        \"std\": 2499.653095923512,\n        \"min\": 615.51,\n        \"max\": 8648.47,\n        \"num_unique_values\": 10,\n        \"samples\": [\n          5982.01,\n          2860.44,\n          4781.51\n        ],\n        \"semantic_type\": \"\",\n        \"description\": \"\"\n      }\n    },\n    {\n      \"column\": \"comissao_pct\",\n      \"properties\": {\n        \"dtype\": \"number\",\n        \"std\": 0,\n        \"min\": 5,\n        \"max\": 5,\n        \"num_unique_values\": 1,\n        \"samples\": [\n          5\n        ],\n        \"semantic_type\": \"\",\n        \"description\": \"\"\n      }\n    },\n    {\n      \"column\": \"valor_comissao\",\n      \"properties\": {\n        \"dtype\": \"number\",\n        \"std\": 124.9811537614994,\n        \"min\": 30.78,\n        \"max\": 432.42,\n        \"num_unique_values\": 10,\n        \"samples\": [\n          299.1\n        ],\n        \"semantic_type\": \"\",\n        \"description\": \"\"\n      }\n    },\n    {\n      \"column\": \"cpf_cnpj\",\n      \"properties\": {\n        \"dtype\": \"string\",\n        \"num_unique_values\": 9,\n        \"samples\": [\n          \"***.***.***-40\"\n        ],\n        \"semantic_type\": \"\",\n        \"description\": \"\"\n      }\n    },\n    {\n      \"column\": \"razao_social_cliente\",\n      \"properties\": {\n        \"dtype\": \"string\",\n        \"num_unique_values\": 10,\n        \"samples\": [\n          \"da Mota\"\n        ],\n        \"semantic_type\": \"\",\n        \"description\": \"\"\n      }\n    },\n    {\n      \"column\": \"data_venda\",\n      \"properties\": {\n        \"dtype\": \"object\",\n        \"num_unique_values\": 9,\n        \"samples\": [\n          \"17/06/2025\"\n        ],\n        \"semantic_type\": \"\",\n        \"description\": \"\"\n      }\n    },\n    {\n      \"column\": \"tipo_pagamento\",\n      \"properties\": {\n        \"dtype\": \"category\",\n        \"num_unique_values\": 4,\n        \"samples\": [\n          \"Boleto\"\n        ],\n        \"semantic_type\": \"\",\n        \"description\": \"\"\n      }\n    },\n    {\n      \"column\": \"prazo_pagamento\",\n      \"properties\": {\n        \"dtype\": \"category\",\n        \"num_unique_values\": 3,\n        \"samples\": [\n          \"3x Sem Juros\"\n        ],\n        \"semantic_type\": \"\",\n        \"description\": \"\"\n      }\n    },\n    {\n      \"column\": \"tipo_venda\",\n      \"properties\": {\n        \"dtype\": \"category\",\n        \"num_unique_values\": 2,\n        \"samples\": [\n          \"Online\"\n        ],\n        \"semantic_type\": \"\",\n        \"description\": \"\"\n      }\n    }\n  ]\n}"
            }
          },
          "metadata": {}
        }
      ]
    },
    {
      "cell_type": "markdown",
      "source": [
        "# ETAPA 7 - SALVAR DADOS NA CAMADA SILVER"
      ],
      "metadata": {
        "id": "RK5Mvo_N2i8a"
      }
    },
    {
      "cell_type": "code",
      "source": [
        "hoje = datetime.today().date().isoformat()\n",
        "caminho_silver = f\"{silver_prefix}data={hoje}/vendas_silver_{hoje}.parquet\"\n",
        "\n",
        "df_silver.to_parquet(\n",
        "    f\"s3://{bucket}/{caminho_silver}\",\n",
        "    index=False,\n",
        "    engine=\"pyarrow\",\n",
        "    filesystem=fs\n",
        ")\n",
        "\n",
        "print(f\"\\n🚀 Dados salvos com sucesso em:\\ns3://{bucket}/{caminho_silver}\")\n",
        "print(\"🏁 ETL Bronze ➜ Silver finalizado com sucesso! 🎉\")"
      ],
      "metadata": {
        "colab": {
          "base_uri": "https://localhost:8080/"
        },
        "id": "asYGPhrB2lZv",
        "outputId": "8e3c2b42-0049-4b62-f2c0-705f3a3fb3e2"
      },
      "execution_count": 17,
      "outputs": [
        {
          "output_type": "stream",
          "name": "stdout",
          "text": [
            "\n",
            "🚀 Dados salvos com sucesso em:\n",
            "s3://data-lake-eletro-fort/silver/base_vendas/data=2025-06-25/vendas_silver_2025-06-25.parquet\n",
            "🏁 ETL Bronze ➜ Silver finalizado com sucesso! 🎉\n"
          ]
        }
      ]
    }
  ]
}